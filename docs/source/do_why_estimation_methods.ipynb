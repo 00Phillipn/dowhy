{
 "cells": [
  {
   "cell_type": "markdown",
   "metadata": {},
   "source": [
    "# DoWhy: Different estimation methods for causal inference\n",
    "This is quick introduction to DoWhy causal inference library.\n",
    "We will load in a sample dataset and use different methods for estimating causal effect from a (pre-specified)treatment variable to a (pre-specified) outcome variable.\n",
    "\n",
    "First, let us add required path for python to find DoWhy code and load required packages."
   ]
  },
  {
   "cell_type": "code",
   "execution_count": 14,
   "metadata": {},
   "outputs": [],
   "source": [
    "import os, sys\n",
    "sys.path.append(os.path.abspath(\"../../\"))"
   ]
  },
  {
   "cell_type": "code",
   "execution_count": 15,
   "metadata": {},
   "outputs": [],
   "source": [
    "import numpy as np\n",
    "import pandas as pd\n",
    "import logging\n",
    "\n",
    "import dowhy\n",
    "from dowhy.do_why import CausalModel\n",
    "import dowhy.datasets "
   ]
  },
  {
   "cell_type": "markdown",
   "metadata": {},
   "source": [
    "Let us first load a dataset. For simplicity, we simulate a dataset with linear relationships between common causes and treatment, and common causes and outcome. \n",
    "\n",
    "Beta is the true causal effect. "
   ]
  },
  {
   "cell_type": "code",
   "execution_count": 16,
   "metadata": {},
   "outputs": [],
   "source": [
    "data = dowhy.datasets.linear_dataset(beta=10,\n",
    "        num_common_causes=5, \n",
    "        num_instruments = 2,\n",
    "        num_samples=10000,\n",
    "        treatment_is_binary=True)\n",
    "df = data[\"df\"]\n"
   ]
  },
  {
   "cell_type": "markdown",
   "metadata": {},
   "source": [
    "Note that we are using a pandas dataframe to load the data."
   ]
  },
  {
   "cell_type": "markdown",
   "metadata": {},
   "source": [
    "## Identifying the causal estimand"
   ]
  },
  {
   "cell_type": "markdown",
   "metadata": {},
   "source": [
    "We now input a causal graph in the DOT graph format."
   ]
  },
  {
   "cell_type": "code",
   "execution_count": 17,
   "metadata": {},
   "outputs": [
    {
     "name": "stdout",
     "output_type": "stream",
     "text": [
      "Model to find the causal effect of treatment v on outcome y\n"
     ]
    }
   ],
   "source": [
    "# With graph\n",
    "model=CausalModel(\n",
    "        data = df,\n",
    "        treatment=data[\"treatment_name\"],\n",
    "        outcome=data[\"outcome_name\"],\n",
    "        graph=data[\"dot_graph\"],\n",
    "        instruments=data[\"instrument_names\"],\n",
    "        logging_level = logging.INFO\n",
    "        )"
   ]
  },
  {
   "cell_type": "code",
   "execution_count": 18,
   "metadata": {},
   "outputs": [],
   "source": [
    "model.view_model()"
   ]
  },
  {
   "cell_type": "markdown",
   "metadata": {},
   "source": [
    "<img src=\"causal_model.png\">"
   ]
  },
  {
   "cell_type": "markdown",
   "metadata": {},
   "source": [
    "We get a causal graph. Now identification and estimation is done. "
   ]
  },
  {
   "cell_type": "code",
   "execution_count": 19,
   "metadata": {},
   "outputs": [
    {
     "name": "stderr",
     "output_type": "stream",
     "text": [
      "INFO:dowhy.causal_identifier:Common causes of treatment and outcome:{'X3', 'Z0', 'Z1', 'X0', 'X2', 'X4', 'U', 'X1'}\n"
     ]
    },
    {
     "name": "stdout",
     "output_type": "stream",
     "text": [
      "There are unobserved common causes. Causal effect cannot be identified.\n",
      "WARN: Do you want to continue by ignoring these unobserved confounders? [y/n] y\n"
     ]
    },
    {
     "name": "stderr",
     "output_type": "stream",
     "text": [
      "INFO:dowhy.causal_identifier:Instrumental variables for treatment and outcome:['Z0', 'Z1']\n"
     ]
    },
    {
     "name": "stdout",
     "output_type": "stream",
     "text": [
      "Estimand type: ate\n",
      "### Estimand : 1\n",
      "Estimand name: backdoor\n",
      "Estimand expression:\n",
      "d                                      \n",
      "──(Expectation(y|X3,Z0,Z1,X0,X2,X4,X1))\n",
      "dv                                     \n",
      "Estimand assumption 1, Unconfoundedness: If U→v and U→y then P(y|v,X3,Z0,Z1,X0,X2,X4,X1,U) = P(y|v,X3,Z0,Z1,X0,X2,X4,X1)\n",
      "### Estimand : 2\n",
      "Estimand name: iv\n",
      "Estimand expression:\n",
      "Expectation(Derivative(y, Z0)/Derivative(v, Z0))\n",
      "Estimand assumption 1, Exclusion: If we remove {Z0,Z1}→v, then ¬(Z0,Z1→y)\n",
      "Estimand assumption 2, As-if-random: If U→→y then ¬(U →→Z0,Z1)\n",
      "\n"
     ]
    }
   ],
   "source": [
    "identified_estimand = model.identify_effect()\n",
    "print(identified_estimand)"
   ]
  },
  {
   "cell_type": "markdown",
   "metadata": {},
   "source": [
    "## Method 1: Regression\n",
    "\n",
    "Use linear regression."
   ]
  },
  {
   "cell_type": "code",
   "execution_count": 20,
   "metadata": {},
   "outputs": [
    {
     "name": "stderr",
     "output_type": "stream",
     "text": [
      "INFO:dowhy.causal_estimator:INFO: Using Linear Regression Estimator\n",
      "INFO:dowhy.causal_estimator:b: y~v+X3+Z0+Z1+X0+X2+X4+X1\n"
     ]
    },
    {
     "name": "stdout",
     "output_type": "stream",
     "text": [
      "LinearRegressionEstimator\n",
      "*** Causal Estimate ***\n",
      "\n",
      "## Target estimand\n",
      "Estimand type: ate\n",
      "### Estimand : 1\n",
      "Estimand name: backdoor\n",
      "Estimand expression:\n",
      "d                                      \n",
      "──(Expectation(y|X3,Z0,Z1,X0,X2,X4,X1))\n",
      "dv                                     \n",
      "Estimand assumption 1, Unconfoundedness: If U→v and U→y then P(y|v,X3,Z0,Z1,X0,X2,X4,X1,U) = P(y|v,X3,Z0,Z1,X0,X2,X4,X1)\n",
      "### Estimand : 2\n",
      "Estimand name: iv\n",
      "Estimand expression:\n",
      "Expectation(Derivative(y, Z0)/Derivative(v, Z0))\n",
      "Estimand assumption 1, Exclusion: If we remove {Z0,Z1}→v, then ¬(Z0,Z1→y)\n",
      "Estimand assumption 2, As-if-random: If U→→y then ¬(U →→Z0,Z1)\n",
      "\n",
      "## Realized estimand\n",
      "b: y~v+X3+Z0+Z1+X0+X2+X4+X1\n",
      "## Estimate\n",
      "Value: 9.999999999998463\n",
      "\n",
      "## Statistical Significance\n",
      "p-value: 0.0\n",
      "\n",
      "Causal Estimate is 10.0\n"
     ]
    }
   ],
   "source": [
    "causal_estimate_reg = model.estimate_effect(identified_estimand,\n",
    "        method_name=\"backdoor.linear_regression\",\n",
    "        test_significance=True)\n",
    "print(causal_estimate_reg)\n",
    "print(\"Causal Estimate is \" + str(causal_estimate_reg.value))"
   ]
  },
  {
   "cell_type": "markdown",
   "metadata": {},
   "source": [
    "## Method 2: Stratification\n",
    "\n",
    "We will be using propensity scores to stratify units in the data."
   ]
  },
  {
   "cell_type": "code",
   "execution_count": 21,
   "metadata": {},
   "outputs": [
    {
     "name": "stderr",
     "output_type": "stream",
     "text": [
      "INFO:dowhy.causal_estimator:INFO: Using Propensity Score Stratification Estimator\n",
      "INFO:dowhy.causal_estimator:b: y~v+X3+Z0+Z1+X0+X2+X4+X1\n"
     ]
    },
    {
     "name": "stdout",
     "output_type": "stream",
     "text": [
      "PropensityScoreStratificationEstimator\n",
      "*** Causal Estimate ***\n",
      "\n",
      "## Target estimand\n",
      "Estimand type: ate\n",
      "### Estimand : 1\n",
      "Estimand name: backdoor\n",
      "Estimand expression:\n",
      "d                                      \n",
      "──(Expectation(y|X3,Z0,Z1,X0,X2,X4,X1))\n",
      "dv                                     \n",
      "Estimand assumption 1, Unconfoundedness: If U→v and U→y then P(y|v,X3,Z0,Z1,X0,X2,X4,X1,U) = P(y|v,X3,Z0,Z1,X0,X2,X4,X1)\n",
      "### Estimand : 2\n",
      "Estimand name: iv\n",
      "Estimand expression:\n",
      "Expectation(Derivative(y, Z0)/Derivative(v, Z0))\n",
      "Estimand assumption 1, Exclusion: If we remove {Z0,Z1}→v, then ¬(Z0,Z1→y)\n",
      "Estimand assumption 2, As-if-random: If U→→y then ¬(U →→Z0,Z1)\n",
      "\n",
      "## Realized estimand\n",
      "b: y~v+X3+Z0+Z1+X0+X2+X4+X1\n",
      "## Estimate\n",
      "Value: 10.195255519721503\n",
      "\n",
      "Causal Estimate is 10.1952555197\n"
     ]
    }
   ],
   "source": [
    "causal_estimate_strat = model.estimate_effect(identified_estimand,\n",
    "        method_name=\"backdoor.propensity_score_stratification\")\n",
    "print(causal_estimate_strat)\n",
    "print(\"Causal Estimate is \" + str(causal_estimate_strat.value))"
   ]
  },
  {
   "cell_type": "markdown",
   "metadata": {},
   "source": [
    "## Method 3: Matching\n",
    "\n",
    "We will be using propensity scores to match units in the data."
   ]
  },
  {
   "cell_type": "code",
   "execution_count": 22,
   "metadata": {},
   "outputs": [
    {
     "name": "stderr",
     "output_type": "stream",
     "text": [
      "INFO:dowhy.causal_estimator:INFO: Using Propensity Score Matching Estimator\n",
      "INFO:dowhy.causal_estimator:b: y~v+X3+Z0+Z1+X0+X2+X4+X1\n"
     ]
    },
    {
     "name": "stdout",
     "output_type": "stream",
     "text": [
      "PropensityScoreMatchingEstimator\n",
      "*** Causal Estimate ***\n",
      "\n",
      "## Target estimand\n",
      "Estimand type: ate\n",
      "### Estimand : 1\n",
      "Estimand name: backdoor\n",
      "Estimand expression:\n",
      "d                                      \n",
      "──(Expectation(y|X3,Z0,Z1,X0,X2,X4,X1))\n",
      "dv                                     \n",
      "Estimand assumption 1, Unconfoundedness: If U→v and U→y then P(y|v,X3,Z0,Z1,X0,X2,X4,X1,U) = P(y|v,X3,Z0,Z1,X0,X2,X4,X1)\n",
      "### Estimand : 2\n",
      "Estimand name: iv\n",
      "Estimand expression:\n",
      "Expectation(Derivative(y, Z0)/Derivative(v, Z0))\n",
      "Estimand assumption 1, Exclusion: If we remove {Z0,Z1}→v, then ¬(Z0,Z1→y)\n",
      "Estimand assumption 2, As-if-random: If U→→y then ¬(U →→Z0,Z1)\n",
      "\n",
      "## Realized estimand\n",
      "b: y~v+X3+Z0+Z1+X0+X2+X4+X1\n",
      "## Estimate\n",
      "Value: 11.097109391311678\n",
      "\n",
      "Causal Estimate is 11.097109391311678\n"
     ]
    }
   ],
   "source": [
    "causal_estimate_match = model.estimate_effect(identified_estimand,\n",
    "        method_name=\"backdoor.propensity_score_matching\")\n",
    "print(causal_estimate_match)\n",
    "print(\"Causal Estimate is \" + str(causal_estimate_match.value))"
   ]
  },
  {
   "cell_type": "markdown",
   "metadata": {},
   "source": [
    "## Method 4: Weighting\n",
    "\n",
    "We will be using (inverse) propensity scores to assign weights to units in the data."
   ]
  },
  {
   "cell_type": "code",
   "execution_count": 23,
   "metadata": {},
   "outputs": [
    {
     "name": "stderr",
     "output_type": "stream",
     "text": [
      "INFO:dowhy.causal_estimator:INFO: Using Propensity Score Weighting Estimator\n",
      "INFO:dowhy.causal_estimator:b: y~v+X3+Z0+Z1+X0+X2+X4+X1\n"
     ]
    },
    {
     "name": "stdout",
     "output_type": "stream",
     "text": [
      "PropensityScoreWeightingEstimator\n",
      "*** Causal Estimate ***\n",
      "\n",
      "## Target estimand\n",
      "Estimand type: ate\n",
      "### Estimand : 1\n",
      "Estimand name: backdoor\n",
      "Estimand expression:\n",
      "d                                      \n",
      "──(Expectation(y|X3,Z0,Z1,X0,X2,X4,X1))\n",
      "dv                                     \n",
      "Estimand assumption 1, Unconfoundedness: If U→v and U→y then P(y|v,X3,Z0,Z1,X0,X2,X4,X1,U) = P(y|v,X3,Z0,Z1,X0,X2,X4,X1)\n",
      "### Estimand : 2\n",
      "Estimand name: iv\n",
      "Estimand expression:\n",
      "Expectation(Derivative(y, Z0)/Derivative(v, Z0))\n",
      "Estimand assumption 1, Exclusion: If we remove {Z0,Z1}→v, then ¬(Z0,Z1→y)\n",
      "Estimand assumption 2, As-if-random: If U→→y then ¬(U →→Z0,Z1)\n",
      "\n",
      "## Realized estimand\n",
      "b: y~v+X3+Z0+Z1+X0+X2+X4+X1\n",
      "## Estimate\n",
      "Value: 181561.38151979883\n",
      "\n",
      "Causal Estimate is 181561.38152\n"
     ]
    }
   ],
   "source": [
    "causal_estimate_ipw = model.estimate_effect(identified_estimand,\n",
    "        method_name=\"backdoor.propensity_score_weighting\")\n",
    "print(causal_estimate_ipw)\n",
    "print(\"Causal Estimate is \" + str(causal_estimate_ipw.value))"
   ]
  },
  {
   "cell_type": "markdown",
   "metadata": {},
   "source": [
    "## Method 5: Instrumental Variable\n",
    "\n",
    "We will be using Wald estimator for the provided instrumental variable."
   ]
  },
  {
   "cell_type": "code",
   "execution_count": 24,
   "metadata": {},
   "outputs": [
    {
     "name": "stderr",
     "output_type": "stream",
     "text": [
      "INFO:dowhy.causal_estimator:INFO: Using Instrumental Variable Estimator\n",
      "INFO:dowhy.causal_estimator:Realized estimand: Wald Estimator\n",
      "Realized estimand type: ate\n",
      "Estimand expression:\n",
      "                                                             -1\n",
      "Expectation(Derivative(y, Z0))⋅Expectation(Derivative(v, Z0))  \n",
      "Estimand assumption 1, Exclusion: If we remove {Z0,Z1}→v, then ¬(Z0,Z1→y)\n",
      "Estimand assumption 2, treatment_effect_homogeneity: Each unit's treatment v isaffected in the same way by common causes of v and y\n",
      "Estimand assumption 3, outcome_effect_homogeneity: Each unit's outcome y isaffected in the same way by common causes of v and y\n",
      "Estimand assumption 4, As-if-random: If U→→y then ¬(U →→Z0,Z1)\n",
      "\n"
     ]
    },
    {
     "name": "stdout",
     "output_type": "stream",
     "text": [
      "InstrumentalVariableEstimator\n",
      "*** Causal Estimate ***\n",
      "\n",
      "## Target estimand\n",
      "Estimand type: ate\n",
      "### Estimand : 1\n",
      "Estimand name: backdoor\n",
      "Estimand expression:\n",
      "d                                      \n",
      "──(Expectation(y|X3,Z0,Z1,X0,X2,X4,X1))\n",
      "dv                                     \n",
      "Estimand assumption 1, Unconfoundedness: If U→v and U→y then P(y|v,X3,Z0,Z1,X0,X2,X4,X1,U) = P(y|v,X3,Z0,Z1,X0,X2,X4,X1)\n",
      "### Estimand : 2\n",
      "Estimand name: iv\n",
      "Estimand expression:\n",
      "Expectation(Derivative(y, Z0)/Derivative(v, Z0))\n",
      "Estimand assumption 1, Exclusion: If we remove {Z0,Z1}→v, then ¬(Z0,Z1→y)\n",
      "Estimand assumption 2, As-if-random: If U→→y then ¬(U →→Z0,Z1)\n",
      "\n",
      "## Realized estimand\n",
      "Realized estimand: Wald Estimator\n",
      "Realized estimand type: ate\n",
      "Estimand expression:\n",
      "                                                             -1\n",
      "Expectation(Derivative(y, Z0))⋅Expectation(Derivative(v, Z0))  \n",
      "Estimand assumption 1, Exclusion: If we remove {Z0,Z1}→v, then ¬(Z0,Z1→y)\n",
      "Estimand assumption 2, treatment_effect_homogeneity: Each unit's treatment v isaffected in the same way by common causes of v and y\n",
      "Estimand assumption 3, outcome_effect_homogeneity: Each unit's outcome y isaffected in the same way by common causes of v and y\n",
      "Estimand assumption 4, As-if-random: If U→→y then ¬(U →→Z0,Z1)\n",
      "\n",
      "## Estimate\n",
      "Value: 16.13954841227219\n",
      "\n",
      "Causal Estimate is 16.1395484123\n"
     ]
    }
   ],
   "source": [
    "causal_estimate_iv = model.estimate_effect(identified_estimand,\n",
    "        method_name=\"iv.instrumental_variable\", method_params={'iv_instrument_name':'Z1'})\n",
    "print(causal_estimate_iv)\n",
    "print(\"Causal Estimate is \" + str(causal_estimate_iv.value))"
   ]
  },
  {
   "cell_type": "markdown",
   "metadata": {},
   "source": [
    "## Method 6: Regression Discontinuity\n",
    "\n",
    "We will be internally converting this to an equivalent instrumental variables problem."
   ]
  },
  {
   "cell_type": "code",
   "execution_count": 25,
   "metadata": {},
   "outputs": [
    {
     "name": "stderr",
     "output_type": "stream",
     "text": [
      "INFO:dowhy.causal_estimator:Using Regression Discontinuity Estimator\n",
      "INFO:dowhy.causal_estimator:\n",
      "INFO:dowhy.causal_estimator:INFO: Using Instrumental Variable Estimator\n",
      "INFO:dowhy.causal_estimator:Realized estimand: Wald Estimator\n",
      "Realized estimand type: ate\n",
      "Estimand expression:\n",
      "                                                             -1\n",
      "Expectation(Derivative(y, Z0))⋅Expectation(Derivative(v, Z0))  \n",
      "Estimand assumption 1, Exclusion: If we remove {Z0,Z1}→v, then ¬(Z0,Z1→y)\n",
      "Estimand assumption 2, treatment_effect_homogeneity: Each unit's treatment local_treatment isaffected in the same way by common causes of local_treatment and local_outcome\n",
      "Estimand assumption 3, outcome_effect_homogeneity: Each unit's outcome local_outcome isaffected in the same way by common causes of local_treatment and local_outcome\n",
      "Estimand assumption 4, As-if-random: If U→→y then ¬(U →→Z0,Z1)\n",
      "\n"
     ]
    },
    {
     "name": "stdout",
     "output_type": "stream",
     "text": [
      "RegressionDiscontinuityEstimator\n",
      "*** Causal Estimate ***\n",
      "\n",
      "## Target estimand\n",
      "Estimand type: ate\n",
      "### Estimand : 1\n",
      "Estimand name: backdoor\n",
      "Estimand expression:\n",
      "d                                      \n",
      "──(Expectation(y|X3,Z0,Z1,X0,X2,X4,X1))\n",
      "dv                                     \n",
      "Estimand assumption 1, Unconfoundedness: If U→v and U→y then P(y|v,X3,Z0,Z1,X0,X2,X4,X1,U) = P(y|v,X3,Z0,Z1,X0,X2,X4,X1)\n",
      "### Estimand : 2\n",
      "Estimand name: iv\n",
      "Estimand expression:\n",
      "Expectation(Derivative(y, Z0)/Derivative(v, Z0))\n",
      "Estimand assumption 1, Exclusion: If we remove {Z0,Z1}→v, then ¬(Z0,Z1→y)\n",
      "Estimand assumption 2, As-if-random: If U→→y then ¬(U →→Z0,Z1)\n",
      "\n",
      "## Realized estimand\n",
      "Realized estimand: Wald Estimator\n",
      "Realized estimand type: ate\n",
      "Estimand expression:\n",
      "                                                             -1\n",
      "Expectation(Derivative(y, Z0))⋅Expectation(Derivative(v, Z0))  \n",
      "Estimand assumption 1, Exclusion: If we remove {Z0,Z1}→v, then ¬(Z0,Z1→y)\n",
      "Estimand assumption 2, treatment_effect_homogeneity: Each unit's treatment local_treatment isaffected in the same way by common causes of local_treatment and local_outcome\n",
      "Estimand assumption 3, outcome_effect_homogeneity: Each unit's outcome local_outcome isaffected in the same way by common causes of local_treatment and local_outcome\n",
      "Estimand assumption 4, As-if-random: If U→→y then ¬(U →→Z0,Z1)\n",
      "\n",
      "## Estimate\n",
      "Value: 16.25986844895645\n",
      "\n",
      "Causal Estimate is 16.259868449\n"
     ]
    }
   ],
   "source": [
    "causal_estimate_regdist = model.estimate_effect(identified_estimand,\n",
    "        method_name=\"iv.regression_discontinuity\", \n",
    "        method_params={'rd_variable_name':'Z1',\n",
    "                       'rd_threshold_value':0.5,\n",
    "                       'rd_bandwidth': 0.1})\n",
    "print(causal_estimate_regdist)\n",
    "print(\"Causal Estimate is \" + str(causal_estimate_regdist.value))"
   ]
  }
 ],
 "metadata": {
  "kernelspec": {
   "display_name": "Python 3",
   "language": "python",
   "name": "python3"
  },
  "language_info": {
   "codemirror_mode": {
    "name": "ipython",
    "version": 3
   },
   "file_extension": ".py",
   "mimetype": "text/x-python",
   "name": "python",
   "nbconvert_exporter": "python",
   "pygments_lexer": "ipython3",
   "version": "3.5.2"
  }
 },
 "nbformat": 4,
 "nbformat_minor": 2
}
